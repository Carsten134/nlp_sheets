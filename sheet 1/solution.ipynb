{
 "cells": [
  {
   "cell_type": "code",
   "execution_count": 8,
   "metadata": {},
   "outputs": [],
   "source": [
    "import pandas as pd\n",
    "import re"
   ]
  },
  {
   "cell_type": "code",
   "execution_count": 4,
   "metadata": {},
   "outputs": [],
   "source": [
    "magic = open(\"./data/magic.txt\").readlines()"
   ]
  },
  {
   "cell_type": "markdown",
   "metadata": {},
   "source": [
    "This is what the data looks like:"
   ]
  },
  {
   "cell_type": "code",
   "execution_count": 7,
   "metadata": {},
   "outputs": [
    {
     "data": {
      "text/plain": [
       "['CardName: Absorb CardCost: {W}{U}{U} CardType: Instant CardEffect: Counter target spell. You gain 3 life.\\n',\n",
       " 'CardName: Acclaimed Contender CardCost: {2}{W} CardType: Creature — Human Knight CardEffect: When Acclaimed Contender enters the battlefield, if you control another Knight, look at the top five cards of your library. You may reveal a Knight, Aura, Equipment, or legendary artifact card from among them and put it into your hand. Put the rest on the bottom of your library in a random order.\\n',\n",
       " 'CardName: Act of Treason CardCost: {2}{R} CardType: Sorcery CardEffect: Gain control of target creature until end of turn. Untap that creature. It gains haste until end of turn. (It can attack and {T} this turn.)\\n',\n",
       " 'CardName: Aerial Assault CardCost: {2}{W} CardType: Sorcery CardEffect: Destroy target tapped creature. You gain 1 life for each creature you control with flying.\\n',\n",
       " 'CardName: Aeromunculus CardCost: {1}{G}{U} CardType: Creature — Homunculus Mutant CardEffect: Flying {2}{G}{U}: Adapt 1. (If this creature has no +1/+1 counters on it, put a +1/+1 counter on it.)\\n']"
      ]
     },
     "execution_count": 7,
     "metadata": {},
     "output_type": "execute_result"
    }
   ],
   "source": [
    "magic[0:5]"
   ]
  },
  {
   "cell_type": "markdown",
   "metadata": {},
   "source": [
    "Testing the regex code to filter information"
   ]
  },
  {
   "cell_type": "code",
   "execution_count": 27,
   "metadata": {},
   "outputs": [
    {
     "name": "stdout",
     "output_type": "stream",
     "text": [
      "['Absorb']\n",
      "['{W}{U}{U}']\n",
      "['Instant']\n",
      "['Counter target spell. You gain 3 life.']\n"
     ]
    }
   ],
   "source": [
    "# name\n",
    "print(re.findall(r'CardName: (.*) CardCost', magic[0]))\n",
    "# cost\n",
    "print(re.findall(r'CardCost: (.*) CardType', magic[0]))\n",
    "# type\n",
    "print(re.findall(r'CardType: (.*) CardEffect', magic[0]))\n",
    "# effect\n",
    "print(re.findall(r'CardEffect: (.*)\\n', magic[0]))"
   ]
  },
  {
   "cell_type": "markdown",
   "metadata": {},
   "source": [
    "Extracting information and converting it to a `pd.DataFrame`"
   ]
  },
  {
   "cell_type": "code",
   "execution_count": 34,
   "metadata": {},
   "outputs": [],
   "source": [
    "magic_data = {\"name\": [],\n",
    "              \"cost\": [],\n",
    "              \"type\": [],\n",
    "              \"effect\": []}\n",
    "\n",
    "for magic_card in magic:\n",
    "    magic_data[\"name\"].append(re.findall(r'CardName: (.*) CardCost', magic_card)[0])\n",
    "    magic_data[\"cost\"].append(re.findall(r'CardCost: (.*) CardType', magic_card)[0])\n",
    "    magic_data[\"type\"].append(re.findall(r'CardType: (.*) CardEffect', magic_card)[0])\n",
    "    magic_data[\"effect\"].append(re.findall(r'CardEffect: (.*)\\n', magic_card)[0])\n",
    "\n",
    "magic_data = pd.DataFrame.from_dict(magic_data)"
   ]
  },
  {
   "cell_type": "code",
   "execution_count": 35,
   "metadata": {},
   "outputs": [
    {
     "data": {
      "text/html": [
       "<div>\n",
       "<style scoped>\n",
       "    .dataframe tbody tr th:only-of-type {\n",
       "        vertical-align: middle;\n",
       "    }\n",
       "\n",
       "    .dataframe tbody tr th {\n",
       "        vertical-align: top;\n",
       "    }\n",
       "\n",
       "    .dataframe thead th {\n",
       "        text-align: right;\n",
       "    }\n",
       "</style>\n",
       "<table border=\"1\" class=\"dataframe\">\n",
       "  <thead>\n",
       "    <tr style=\"text-align: right;\">\n",
       "      <th></th>\n",
       "      <th>name</th>\n",
       "      <th>cost</th>\n",
       "      <th>type</th>\n",
       "      <th>effect</th>\n",
       "    </tr>\n",
       "  </thead>\n",
       "  <tbody>\n",
       "    <tr>\n",
       "      <th>0</th>\n",
       "      <td>Absorb</td>\n",
       "      <td>{W}{U}{U}</td>\n",
       "      <td>Instant</td>\n",
       "      <td>Counter target spell. You gain 3 life.</td>\n",
       "    </tr>\n",
       "    <tr>\n",
       "      <th>1</th>\n",
       "      <td>Acclaimed Contender</td>\n",
       "      <td>{2}{W}</td>\n",
       "      <td>Creature — Human Knight</td>\n",
       "      <td>When Acclaimed Contender enters the battlefiel...</td>\n",
       "    </tr>\n",
       "    <tr>\n",
       "      <th>2</th>\n",
       "      <td>Act of Treason</td>\n",
       "      <td>{2}{R}</td>\n",
       "      <td>Sorcery</td>\n",
       "      <td>Gain control of target creature until end of t...</td>\n",
       "    </tr>\n",
       "    <tr>\n",
       "      <th>3</th>\n",
       "      <td>Aerial Assault</td>\n",
       "      <td>{2}{W}</td>\n",
       "      <td>Sorcery</td>\n",
       "      <td>Destroy target tapped creature. You gain 1 lif...</td>\n",
       "    </tr>\n",
       "    <tr>\n",
       "      <th>4</th>\n",
       "      <td>Aeromunculus</td>\n",
       "      <td>{1}{G}{U}</td>\n",
       "      <td>Creature — Homunculus Mutant</td>\n",
       "      <td>Flying {2}{G}{U}: Adapt 1. (If this creature h...</td>\n",
       "    </tr>\n",
       "  </tbody>\n",
       "</table>\n",
       "</div>"
      ],
      "text/plain": [
       "                  name       cost                          type  \\\n",
       "0               Absorb  {W}{U}{U}                       Instant   \n",
       "1  Acclaimed Contender     {2}{W}       Creature — Human Knight   \n",
       "2       Act of Treason     {2}{R}                       Sorcery   \n",
       "3       Aerial Assault     {2}{W}                       Sorcery   \n",
       "4         Aeromunculus  {1}{G}{U}  Creature — Homunculus Mutant   \n",
       "\n",
       "                                              effect  \n",
       "0             Counter target spell. You gain 3 life.  \n",
       "1  When Acclaimed Contender enters the battlefiel...  \n",
       "2  Gain control of target creature until end of t...  \n",
       "3  Destroy target tapped creature. You gain 1 lif...  \n",
       "4  Flying {2}{G}{U}: Adapt 1. (If this creature h...  "
      ]
     },
     "execution_count": 35,
     "metadata": {},
     "output_type": "execute_result"
    }
   ],
   "source": [
    "magic_data.head(5)"
   ]
  },
  {
   "attachments": {
    "image.png": {
     "image/png": "[encoded data removed]"
    }
   },
   "cell_type": "markdown",
   "metadata": {},
   "source": [
    "![image.png](attachment:image.png)"
   ]
  },
  {
   "cell_type": "code",
   "execution_count": 44,
   "metadata": {},
   "outputs": [
    {
     "name": "stdout",
     "output_type": "stream",
     "text": [
      "Creature: 733\n",
      "Sorcery: 185\n",
      "Instant: 215\n",
      "Enchantment: 85\n",
      "Artifact: 108\n"
     ]
    }
   ],
   "source": [
    "tokens_of_interest = [\"Creature\", \"Sorcery\", \"Instant\", \"Enchantment\", \"Artifact\"]\n",
    "\n",
    "for token in tokens_of_interest:\n",
    "    print(f\"{token}: {magic_data.loc[:, [\"type\"]].apply(lambda row: len(re.findall(token, row[\"type\"])), axis=1).sum()}\")"
   ]
  },
  {
   "cell_type": "markdown",
   "metadata": {},
   "source": [
    "Alternative way, which is more elegant"
   ]
  },
  {
   "cell_type": "code",
   "execution_count": 52,
   "metadata": {},
   "outputs": [
    {
     "name": "stdout",
     "output_type": "stream",
     "text": [
      "Creature: 733\n",
      "Sorcery: 185\n",
      "Instant: 215\n",
      "Enchantment: 85\n",
      "Artifact: 108\n"
     ]
    }
   ],
   "source": [
    "for token in tokens_of_interest:\n",
    "    print(f\"{token}: {magic_data.type.str.count(token).sum()}\")"
   ]
  }
 ],
 "metadata": {
  "kernelspec": {
   "display_name": "nlp",
   "language": "python",
   "name": "python3"
  },
  "language_info": {
   "codemirror_mode": {
    "name": "ipython",
    "version": 3
   },
   "file_extension": ".py",
   "mimetype": "text/x-python",
   "name": "python",
   "nbconvert_exporter": "python",
   "pygments_lexer": "ipython3",
   "version": "3.12.7"
  }
 },
 "nbformat": 4,
 "nbformat_minor": 2
}
