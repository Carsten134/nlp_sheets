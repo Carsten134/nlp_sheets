{
 "cells": [
  {
   "cell_type": "code",
   "execution_count": 3,
   "metadata": {},
   "outputs": [],
   "source": [
    "# dependencies\n",
    "import pandas as pd\n",
    "import re\n",
    "from nltk.stem import WordNetLemmatizer, PorterStemmer"
   ]
  },
  {
   "cell_type": "code",
   "execution_count": 20,
   "metadata": {},
   "outputs": [
    {
     "name": "stderr",
     "output_type": "stream",
     "text": [
      "[nltk_data] Downloading package stopwords to\n",
      "[nltk_data]     C:\\Users\\WordPress\\AppData\\Roaming\\nltk_data...\n",
      "[nltk_data]   Unzipping corpora\\stopwords.zip.\n"
     ]
    },
    {
     "data": {
      "text/plain": [
       "True"
      ]
     },
     "execution_count": 20,
     "metadata": {},
     "output_type": "execute_result"
    }
   ],
   "source": [
    "## setup for natural language tool-kit\n",
    "import nltk\n",
    "# nltk.download('wordnet')\n",
    "nltk.download('stopwords')"
   ]
  },
  {
   "cell_type": "code",
   "execution_count": 28,
   "metadata": {},
   "outputs": [
    {
     "data": {
      "text/plain": [
       "['Story of a man who has unnatural feelings for a pig. Starts out with a opening scene that is a terrific example of absurd comedy. A formal orchestra audience is turned into an insane, violent mob by the crazy chantings of it\\'s singers. Unfortunately it stays absurd the WHOLE time with no general narrative eventually making it just too off putting. Even those from the era should be turned off. The cryptic dialogue would make Shakespeare seem easy to a third grader. On a technical level it\\'s better than you might think with some good cinematography by future great Vilmos Zsigmond. Future stars Sally Kirkland and Frederic Forrest can be seen briefly.\\nBromwell High is nothing short of brilliant. Expertly scripted and perfectly delivered, this searing parody of a students and teachers at a South London Public School leaves you literally rolling with laughter. It\\'s vulgar, provocative, witty and sharp. The characters are a superbly caricatured cross section of British society (or to be more accurate, of any society). Following the escapades of Keisha, Latrina and Natella, our three \"protagonists\" for want of a better term, the show doesn\\'t shy away from parodying every imaginable subject. Political correctness flies out the window in every episode. If you enjoy shows that aren\\'t afraid to poke fun of every taboo subject imaginable, then Bromwell High will not disappoint!',\n",
       " 'If I had not read Pat Barker\\'s \\'Union Street\\' before seeing this film, I would have liked it. Unfortuntately this is not the case. It is actually my kind of film, it is well made, and in no way do I want to say otherwise, but as an adaptation, it fails from every angle.<br /><br />The harrowing novel about the reality of living in a northern England working-class area grabbed hold of my heartstrings and refused to let go for weeks after I had finished. I was put through tears, repulsion, shock, anger, sympathy and misery when reading about the women of Union Street. Excellent. A novel that at times I felt I could not read any more of, but I novel I simply couldn\\'t put down. Depressing yes, but utterly gripping.<br /><br />The film. Oh dear. Hollywood took Barker\\'s truth and reality, and showered a layer of sweet icing sugar over the top of it. A beautiful film, an inspiring soundtrack, excellent performances, a tale of hope and romance...yes. An adaptation of \\'Union Street\\'...no.<br /><br />The women of Union Street and their stories are condensed into Fonda\\'s character, their stories are touched on, but many are discarded. I accept that some of Barker\\'s tales are sensitive issues and are too horrific for mass viewing, and that a film with around 7 leading protagonists just isn\\'t practical, but the content is not my main issue. The essence and the real gut of the novel is lost - darkness and rain, broken windows covered with cardboard, and the graphically described stench of poverty is replaced with sunshine, pretty houses, and a twinkling William\\'s score.<br /><br />If you enjoyed the film for its positivity and hope in the face of \\'reality\\', I advise that you hesitate to read the book without first preparing yourself for something more like \\'Schindler\\'s List\\'...but without the happy ending.\\nBromwell High is a cartoon comedy. It ran at the same time as some other programs about school life, such as \"Teachers\". My 35 years in the teaching profession lead me to believe that Bromwell High\\'s satire is much closer to reality than is \"Teachers\". The scramble to survive financially, the insightful students who can see right through their pathetic teachers\\' pomp, the pettiness of the whole situation, all remind me of the schools I knew and their students. When I saw the episode in which a student repeatedly tried to burn down the school, I immediately recalled ......... at .......... High. A classic line: INSPECTOR: I\\'m here to sack one of your teachers. STUDENT: Welcome to Bromwell High. I expect that many adults of my age think that Bromwell High is far fetched. What a pity that it isn\\'t!',\n",
       " \"Robert DeNiro plays the most unbelievably intelligent illiterate of all time. This movie is so wasteful of talent, it is truly disgusting. The script is unbelievable. The dialog is unbelievable. Jane Fonda's character is a caricature of herself, and not a funny one. The movie moves at a snail's pace, is photographed in an ill-advised manner, and is insufferably preachy. It also plugs in every cliche in the book. Swoozie Kurtz is excellent in a supporting role, but so what?<br /><br />Equally annoying is this new IMDB rule of requiring ten lines for every review. When a movie is this worthless, it doesn't require ten lines of text to let other readers know that it is a waste of time and tape. Avoid this movie.\\nIf you like adult comedy cartoons, like South Park, then this is nearly a similar format about the small adventures of three teenage girls at Bromwell High. Keisha, Natella and Latrina have given exploding sweets and behaved like bitches, I think Keisha is a good leader. There are also small stories going on with the teachers of the school. There's the idiotic principal, Mr. Bip, the nervous Maths teacher and many others. The cast is also fantastic, Lenny Henry's Gina Yashere, EastEnders Chrissie Watts, Tracy-Ann Oberman, Smack The Pony's Doon Mackichan, Dead Ringers' Mark Perry and Blunder's Nina Conti. I didn't know this came from Canada, but it is very good. Very good!\"]"
      ]
     },
     "execution_count": 28,
     "metadata": {},
     "output_type": "execute_result"
    }
   ],
   "source": [
    "# tried every review with encoding utf-16 and looked at potential error messages\n",
    "reviews = []\n",
    "\n",
    "for i in range(1,4):\n",
    "    encoding = \"utf-8\"\n",
    "    if i == int(3):\n",
    "        encoding = \"utf-16\"\n",
    "    with open(f\"./data/reviews{i}.txt\", encoding=encoding) as f:\n",
    "        reviews.append(f.read())\n",
    "\n",
    "reviews"
   ]
  },
  {
   "cell_type": "code",
   "execution_count": 29,
   "metadata": {},
   "outputs": [
    {
     "data": {
      "text/plain": [
       "[0           story\n",
       " 1              of\n",
       " 2               a\n",
       " 3             man\n",
       " 4             who\n",
       "           ...    \n",
       " 220      bromwell\n",
       " 221          high\n",
       " 222          will\n",
       " 223           not\n",
       " 224    disappoint\n",
       " Length: 225, dtype: object,\n",
       " 0        if\n",
       " 1         i\n",
       " 2       had\n",
       " 3       not\n",
       " 4      read\n",
       "        ... \n",
       " 446       a\n",
       " 447    pity\n",
       " 448    that\n",
       " 449      it\n",
       " 450    isnt\n",
       " Length: 451, dtype: object,\n",
       " 0      robert\n",
       " 1      deniro\n",
       " 2       plays\n",
       " 3         the\n",
       " 4        most\n",
       "         ...  \n",
       " 232        is\n",
       " 233      very\n",
       " 234      good\n",
       " 235      very\n",
       " 236      good\n",
       " Length: 237, dtype: object]"
      ]
     },
     "execution_count": 29,
     "metadata": {},
     "output_type": "execute_result"
    }
   ],
   "source": [
    "processed = []\n",
    "for review in reviews:\n",
    "    # 1. remove special characters \n",
    "    # 2. turn to lower case\n",
    "    # 3. split into individual words\n",
    "    # 4. typecast to pd.Series\n",
    "    processed.append(pd.Series(re.sub(r\"[^A-Za-z ]\", \"\", review).lower().split(\" \")))\n",
    "\n",
    "processed"
   ]
  },
  {
   "cell_type": "code",
   "execution_count": 30,
   "metadata": {},
   "outputs": [
    {
     "name": "stdout",
     "output_type": "stream",
     "text": [
      "10 most common words in document reviews1.txt: \n",
      "\n",
      "a        11\n",
      "of       10\n",
      "the       8\n",
      "and       5\n",
      "with      4\n",
      "you       3\n",
      "is        3\n",
      "its       3\n",
      "every     3\n",
      "to        3\n",
      "Name: count, dtype: int64\n",
      "10 most common words in document reviews2.txt: \n",
      "\n",
      "the     25\n",
      "of      18\n",
      "and     15\n",
      "i       15\n",
      "a       11\n",
      "is      10\n",
      "to       9\n",
      "that     8\n",
      "it       7\n",
      "film     6\n",
      "Name: count, dtype: int64\n",
      "10 most common words in document reviews3.txt: \n",
      "\n",
      "is       15\n",
      "the      12\n",
      "a         8\n",
      "of        8\n",
      "and       7\n",
      "this      6\n",
      "it        5\n",
      "in        4\n",
      "movie     3\n",
      "also      3\n",
      "Name: count, dtype: int64\n"
     ]
    }
   ],
   "source": [
    "# typecast to series to count the values:\n",
    "for word_vec, i in zip(processed, range(1,4)):\n",
    "    # couning\n",
    "    print(f\"10 most common words in document reviews{i}.txt: \\n\")\n",
    "    print(word_vec.value_counts().head(10))\n"
   ]
  },
  {
   "cell_type": "markdown",
   "metadata": {},
   "source": [
    "Now we need to find the top 10 most common words of each document"
   ]
  },
  {
   "cell_type": "markdown",
   "metadata": {},
   "source": [
    "So we get a lot of stop words as the most common words.\n",
    "\n",
    "## Task 3\n",
    "We were ask to apply a word lemmatization and stemming technique in the `nltk`. We are going to use the `PorterStemmer` and `WordNetLemmatizer` classes for this:"
   ]
  },
  {
   "cell_type": "code",
   "execution_count": 10,
   "metadata": {},
   "outputs": [],
   "source": [
    "wnl = WordNetLemmatizer()\n",
    "ps = PorterStemmer()"
   ]
  },
  {
   "cell_type": "code",
   "execution_count": 32,
   "metadata": {},
   "outputs": [
    {
     "name": "stdout",
     "output_type": "stream",
     "text": [
      "[0           story\n",
      "1              of\n",
      "2               a\n",
      "3             man\n",
      "4             who\n",
      "          ...    \n",
      "220      bromwell\n",
      "221          high\n",
      "222          will\n",
      "223           not\n",
      "224    disappoint\n",
      "Length: 225, dtype: object, 0        if\n",
      "1         i\n",
      "2       had\n",
      "3       not\n",
      "4      read\n",
      "       ... \n",
      "446       a\n",
      "447    pity\n",
      "448    that\n",
      "449      it\n",
      "450    isnt\n",
      "Length: 451, dtype: object, 0      robert\n",
      "1      deniro\n",
      "2        play\n",
      "3         the\n",
      "4        most\n",
      "        ...  \n",
      "232        is\n",
      "233      very\n",
      "234      good\n",
      "235      very\n",
      "236      good\n",
      "Length: 237, dtype: object]\n",
      "[0           stori\n",
      "1              of\n",
      "2               a\n",
      "3             man\n",
      "4             who\n",
      "          ...    \n",
      "220       bromwel\n",
      "221          high\n",
      "222          will\n",
      "223           not\n",
      "224    disappoint\n",
      "Length: 225, dtype: object, 0        if\n",
      "1         i\n",
      "2       had\n",
      "3       not\n",
      "4      read\n",
      "       ... \n",
      "446       a\n",
      "447    piti\n",
      "448    that\n",
      "449      it\n",
      "450    isnt\n",
      "Length: 451, dtype: object, 0      robert\n",
      "1      deniro\n",
      "2        play\n",
      "3         the\n",
      "4        most\n",
      "        ...  \n",
      "232        is\n",
      "233      veri\n",
      "234      good\n",
      "235      veri\n",
      "236      good\n",
      "Length: 237, dtype: object]\n"
     ]
    }
   ],
   "source": [
    "lemmatized = []\n",
    "stemmed = []\n",
    "for word_vec in processed:\n",
    "    # print(pd.Series(word_vec).map(lambda row: nltk.pos_tag(nltk.word_tokenize(row))))\n",
    "    lemmatized.append(word_vec.map(lambda row: wnl.lemmatize(row)))\n",
    "    stemmed.append(word_vec.map(lambda row: ps.stem(row)))\n",
    "\n",
    "print(lemmatized)\n",
    "print(stemmed)"
   ]
  },
  {
   "cell_type": "code",
   "execution_count": 35,
   "metadata": {},
   "outputs": [],
   "source": [
    "# stopword removal\n",
    "lemmatized_without_stop = []\n",
    "stemmed_without_stop = []\n",
    "for lemmatize, stem in zip(lemmatized, stemmed):\n",
    "    lemmatized_without_stop.append(lemmatize[~lemmatize.isin(nltk.corpus.stopwords.words(\"english\"))])\n",
    "    stemmed_without_stop.append(stem[~stem.isin(nltk.corpus.stopwords.words(\"english\"))])\n"
   ]
  },
  {
   "cell_type": "code",
   "execution_count": 36,
   "metadata": {},
   "outputs": [
    {
     "name": "stdout",
     "output_type": "stream",
     "text": [
      "word count for lemmatized in reviews1.txt: \n",
      "\n",
      "every         3\n",
      "high          2\n",
      "absurd        2\n",
      "better        2\n",
      "show          2\n",
      "turned        2\n",
      "subject       2\n",
      "future        2\n",
      "imaginable    2\n",
      "society       2\n",
      "Name: count, dtype: int64\n",
      "word count for stemmed in reviews1.txt: \n",
      "\n",
      "everi      3\n",
      "absurd     2\n",
      "make       2\n",
      "better     2\n",
      "show       2\n",
      "futur      2\n",
      "imagin     2\n",
      "turn       2\n",
      "subject    2\n",
      "societi    2\n",
      "Name: count, dtype: int64\n",
      "word count for lemmatized in reviews2.txt: \n",
      "\n",
      "film        6\n",
      "            5\n",
      "high        5\n",
      "br          4\n",
      "novel       4\n",
      "reality     4\n",
      "union       4\n",
      "student     4\n",
      "teacher     4\n",
      "bromwell    3\n",
      "Name: count, dtype: int64\n",
      "word count for stemmed in reviews2.txt: \n",
      "\n",
      "film       6\n",
      "high       5\n",
      "           5\n",
      "read       4\n",
      "realiti    4\n",
      "student    4\n",
      "teacher    4\n",
      "br         4\n",
      "novel      4\n",
      "union      4\n",
      "Name: count, dtype: int64\n",
      "word count for lemmatized in reviews3.txt: \n",
      "\n",
      "movie      3\n",
      "like       3\n",
      "also       3\n",
      "good       3\n",
      "ten        2\n",
      "small      2\n",
      "teacher    2\n",
      "time       2\n",
      "every      2\n",
      "line       2\n",
      "Name: count, dtype: int64\n",
      "word count for stemmed in reviews3.txt: \n",
      "\n",
      "thi         6\n",
      "good        3\n",
      "unbeliev    3\n",
      "also        3\n",
      "movi        3\n",
      "like        3\n",
      "veri        2\n",
      "ten         2\n",
      "requir      2\n",
      "know        2\n",
      "Name: count, dtype: int64\n"
     ]
    }
   ],
   "source": [
    "for lem, stem, i in zip(lemmatized_without_stop, stemmed_without_stop, range(1,4)):\n",
    "    print(f\"word count for lemmatized in reviews{i}.txt: \\n\")\n",
    "    print(lem.value_counts().head(10))\n",
    "    print(f\"word count for stemmed in reviews{i}.txt: \\n\")\n",
    "    print(stem.value_counts().head(10))"
   ]
  },
  {
   "cell_type": "code",
   "execution_count": null,
   "metadata": {},
   "outputs": [],
   "source": []
  }
 ],
 "metadata": {
  "kernelspec": {
   "display_name": "nlp",
   "language": "python",
   "name": "python3"
  },
  "language_info": {
   "codemirror_mode": {
    "name": "ipython",
    "version": 3
   },
   "file_extension": ".py",
   "mimetype": "text/x-python",
   "name": "python",
   "nbconvert_exporter": "python",
   "pygments_lexer": "ipython3",
   "version": "3.12.7"
  }
 },
 "nbformat": 4,
 "nbformat_minor": 2
}
