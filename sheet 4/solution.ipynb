{
 "cells": [
  {
   "cell_type": "code",
   "execution_count": 46,
   "metadata": {},
   "outputs": [],
   "source": [
    "import pandas as pd\n",
    "import re\n",
    "\n",
    "songs = pd.read_csv(\"./data/songs.csv\")\n",
    "sent = pd.read_csv(\"./data/dictionary.csv\")"
   ]
  },
  {
   "cell_type": "code",
   "execution_count": 47,
   "metadata": {},
   "outputs": [
    {
     "data": {
      "text/html": [
       "<div>\n",
       "<style scoped>\n",
       "    .dataframe tbody tr th:only-of-type {\n",
       "        vertical-align: middle;\n",
       "    }\n",
       "\n",
       "    .dataframe tbody tr th {\n",
       "        vertical-align: top;\n",
       "    }\n",
       "\n",
       "    .dataframe thead th {\n",
       "        text-align: right;\n",
       "    }\n",
       "</style>\n",
       "<table border=\"1\" class=\"dataframe\">\n",
       "  <thead>\n",
       "    <tr style=\"text-align: right;\">\n",
       "      <th></th>\n",
       "      <th>Unnamed: 0</th>\n",
       "      <th>name</th>\n",
       "      <th>artists</th>\n",
       "      <th>year</th>\n",
       "      <th>text</th>\n",
       "    </tr>\n",
       "  </thead>\n",
       "  <tbody>\n",
       "    <tr>\n",
       "      <th>0</th>\n",
       "      <td>3</td>\n",
       "      <td>Mic Check</td>\n",
       "      <td>Rage Against The Machine</td>\n",
       "      <td>1999</td>\n",
       "      <td>Oh Wait a minute now  \\nHa ha ha  \\nCome on  \\...</td>\n",
       "    </tr>\n",
       "    <tr>\n",
       "      <th>1</th>\n",
       "      <td>6</td>\n",
       "      <td>Born As Ghosts</td>\n",
       "      <td>Rage Against The Machine</td>\n",
       "      <td>1999</td>\n",
       "      <td>The hills find peace  \\nLocked armed guard pos...</td>\n",
       "    </tr>\n",
       "    <tr>\n",
       "      <th>2</th>\n",
       "      <td>12</td>\n",
       "      <td>Bombtrack</td>\n",
       "      <td>Rage Against The Machine</td>\n",
       "      <td>1992</td>\n",
       "      <td>Ughh!  \\nHey yo, it's just another bombtrack u...</td>\n",
       "    </tr>\n",
       "    <tr>\n",
       "      <th>3</th>\n",
       "      <td>17</td>\n",
       "      <td>Know Your Enemy</td>\n",
       "      <td>Rage Against The Machine</td>\n",
       "      <td>1992</td>\n",
       "      <td>Huh!  \\nYeah, we're comin' back then with anot...</td>\n",
       "    </tr>\n",
       "    <tr>\n",
       "      <th>4</th>\n",
       "      <td>20</td>\n",
       "      <td>Township Rebellion</td>\n",
       "      <td>Rage Against The Machine</td>\n",
       "      <td>1992</td>\n",
       "      <td>Rebel, rebel and yell  \\n'Cause our people sti...</td>\n",
       "    </tr>\n",
       "  </tbody>\n",
       "</table>\n",
       "</div>"
      ],
      "text/plain": [
       "   Unnamed: 0                name                   artists  year  \\\n",
       "0           3           Mic Check  Rage Against The Machine  1999   \n",
       "1           6      Born As Ghosts  Rage Against The Machine  1999   \n",
       "2          12           Bombtrack  Rage Against The Machine  1992   \n",
       "3          17     Know Your Enemy  Rage Against The Machine  1992   \n",
       "4          20  Township Rebellion  Rage Against The Machine  1992   \n",
       "\n",
       "                                                text  \n",
       "0  Oh Wait a minute now  \\nHa ha ha  \\nCome on  \\...  \n",
       "1  The hills find peace  \\nLocked armed guard pos...  \n",
       "2  Ughh!  \\nHey yo, it's just another bombtrack u...  \n",
       "3  Huh!  \\nYeah, we're comin' back then with anot...  \n",
       "4  Rebel, rebel and yell  \\n'Cause our people sti...  "
      ]
     },
     "execution_count": 47,
     "metadata": {},
     "output_type": "execute_result"
    }
   ],
   "source": [
    "songs.head()"
   ]
  },
  {
   "cell_type": "code",
   "execution_count": 48,
   "metadata": {},
   "outputs": [
    {
     "data": {
      "text/html": [
       "<div>\n",
       "<style scoped>\n",
       "    .dataframe tbody tr th:only-of-type {\n",
       "        vertical-align: middle;\n",
       "    }\n",
       "\n",
       "    .dataframe tbody tr th {\n",
       "        vertical-align: top;\n",
       "    }\n",
       "\n",
       "    .dataframe thead th {\n",
       "        text-align: right;\n",
       "    }\n",
       "</style>\n",
       "<table border=\"1\" class=\"dataframe\">\n",
       "  <thead>\n",
       "    <tr style=\"text-align: right;\">\n",
       "      <th></th>\n",
       "      <th>term</th>\n",
       "      <th>sentiment</th>\n",
       "    </tr>\n",
       "  </thead>\n",
       "  <tbody>\n",
       "    <tr>\n",
       "      <th>0</th>\n",
       "      <td>a</td>\n",
       "      <td>0</td>\n",
       "    </tr>\n",
       "    <tr>\n",
       "      <th>1</th>\n",
       "      <td>a.d.</td>\n",
       "      <td>0</td>\n",
       "    </tr>\n",
       "    <tr>\n",
       "      <th>2</th>\n",
       "      <td>a.k.a.</td>\n",
       "      <td>0</td>\n",
       "    </tr>\n",
       "    <tr>\n",
       "      <th>3</th>\n",
       "      <td>a.m.</td>\n",
       "      <td>0</td>\n",
       "    </tr>\n",
       "    <tr>\n",
       "      <th>4</th>\n",
       "      <td>aardvark</td>\n",
       "      <td>0</td>\n",
       "    </tr>\n",
       "  </tbody>\n",
       "</table>\n",
       "</div>"
      ],
      "text/plain": [
       "       term  sentiment\n",
       "0         a          0\n",
       "1      a.d.          0\n",
       "2    a.k.a.          0\n",
       "3      a.m.          0\n",
       "4  aardvark          0"
      ]
     },
     "execution_count": 48,
     "metadata": {},
     "output_type": "execute_result"
    }
   ],
   "source": [
    "sent.head()"
   ]
  },
  {
   "cell_type": "code",
   "execution_count": 49,
   "metadata": {},
   "outputs": [
    {
     "name": "stdout",
     "output_type": "stream",
     "text": [
      "Oh Wait a minute now  \n",
      "Ha ha ha  \n",
      "Come on  \n",
      "Wait a Minute Now  \n",
      "Check  \n",
      "  \n",
      "To tha young r to tha e tha b to tha e tha l  \n",
      "Never give up just live up  \n",
      "Fed upon America  \n",
      "We be spittin' it up  \n",
      "Rippin' it up  \n",
      "For an even amount in each cup  \n",
      "To my brothers burning bare feet on black top  \n",
      "Whose curled 'neath tha shadows  \n",
      "From tha gaze of tha cops  \n",
      "Whose huntin' for 9 to 5's through factory locks  \n",
      "Is now hunted on this modern day auction block  \n",
      "  \n",
      "Mic Check, ha ha ha  \n",
      "I be the anti-myth rhythm rock shocker  \n",
      "Mic Check, ha ha ha ha  \n",
      "I be the anti-myth rhythm rock shocker, what?  \n",
      "Mic Check, ha ha ha  \n",
      "I be the anti-myth rhythm rock shocker  \n",
      "Mic Check, ha ha ha ha  \n",
      "I be the anti-myth rhythm rock shocker, what?  \n",
      "  \n",
      "Check check check check the check, oh  \n",
      "Packin  \n",
      "  \n",
      "Flexin' and mashin'  \n",
      "With complex text  \n",
      "Fast and in a fashion  \n",
      "That snap back necks  \n",
      "Quicker than a fed cash tha company checks  \n",
      "Come with tha fire only Marley could catch  \n",
      "This be tha flame in tha cellar beware  \n",
      "Nameless cold millions gaspin' for air  \n",
      "Those naked and wageless  \n",
      "Now scream within cages  \n",
      "What, they make you pull your shit  \n",
      "Just to get your share, what?  \n",
      "  \n",
      "Mic Check, ha ha ha  \n",
      "I be the anti-myth rhythm rock shocker  \n",
      "Mic Check, ha ha ha ha  \n",
      "I be the anti-myth rhythm rock shocker, what?  \n",
      "Mic Check, ha ha ha  \n",
      "I be the anti-myth rhythm rock shocker  \n",
      "Mic Check, ha ha ha ha  \n",
      "I be the anti-myth rhythm rock shocker, what?  \n",
      "  \n",
      "Welcome down with the warrior sound, UGH!  \n",
      "  \n",
      "With this mic device  \n",
      "I spit nonfiction  \n",
      "Who got tha power  \n",
      "This be my question  \n",
      "Tha mass of tha few in this torn nation?  \n",
      "Tha priest tha book or tha congregation?  \n",
      "Tha politricks who rob and hold down your zone?  \n",
      "Or those who give tha thieves tha key to their homes?  \n",
      "Tha pig who's free to murder one Shucklak  \n",
      "Or survivors who make a move and murder one back?  \n",
      "  \n",
      "This mic device  \n",
      "I spit nonfiction  \n",
      "Who got tha power  \n",
      "This be my question  \n",
      "Tha mass of tha few in this torn nation?  \n",
      "Tha priest tha book or tha congregation?  \n",
      "Tha politricks who rob and hold down your zone?  \n",
      "Or those who give tha thieves tha key to their homes?  \n",
      "Tha pig who's free to murder one Shucklak  \n",
      "Or survivors who make a move and murder one back?  \n",
      "  \n",
      "Mic Check, ha ha ha  \n",
      "I be the anti-myth rhythm rock shocker  \n",
      "Mic Check, ha ha ha ha  \n",
      "I be the anti-myth rhythm rock shocker, what?  \n",
      "Mic Check, ha ha ha  \n",
      "I be the anti-myth rhythm rock shocker  \n",
      "Mic Check, ha ha ha ha  \n",
      "I be the anti-myth rhythm rock shocker, what?\n",
      "\n",
      "\n"
     ]
    }
   ],
   "source": [
    "print(songs.text[0])"
   ]
  },
  {
   "cell_type": "markdown",
   "metadata": {},
   "source": [
    "# Task 2\n",
    "We need to do some preprocessing but for sentiment analysis.\n",
    "- removing `\\n`\n",
    "- make everything lower case\n",
    "\n",
    "# Task 3 \n",
    "We will just join the very rudimentary split word vector with the sentiment data frame and sum up all the sentiment values"
   ]
  },
  {
   "cell_type": "code",
   "execution_count": 50,
   "metadata": {},
   "outputs": [],
   "source": [
    "# first off set index of sentiment dict to term\n",
    "sent.set_index(\"term\", inplace=True)"
   ]
  },
  {
   "cell_type": "code",
   "execution_count": 51,
   "metadata": {},
   "outputs": [
    {
     "data": {
      "text/html": [
       "<div>\n",
       "<style scoped>\n",
       "    .dataframe tbody tr th:only-of-type {\n",
       "        vertical-align: middle;\n",
       "    }\n",
       "\n",
       "    .dataframe tbody tr th {\n",
       "        vertical-align: top;\n",
       "    }\n",
       "\n",
       "    .dataframe thead th {\n",
       "        text-align: right;\n",
       "    }\n",
       "</style>\n",
       "<table border=\"1\" class=\"dataframe\">\n",
       "  <thead>\n",
       "    <tr style=\"text-align: right;\">\n",
       "      <th></th>\n",
       "      <th>sentiment</th>\n",
       "    </tr>\n",
       "    <tr>\n",
       "      <th>term</th>\n",
       "      <th></th>\n",
       "    </tr>\n",
       "  </thead>\n",
       "  <tbody>\n",
       "    <tr>\n",
       "      <th>a</th>\n",
       "      <td>0</td>\n",
       "    </tr>\n",
       "    <tr>\n",
       "      <th>a.d.</th>\n",
       "      <td>0</td>\n",
       "    </tr>\n",
       "    <tr>\n",
       "      <th>a.k.a.</th>\n",
       "      <td>0</td>\n",
       "    </tr>\n",
       "    <tr>\n",
       "      <th>a.m.</th>\n",
       "      <td>0</td>\n",
       "    </tr>\n",
       "    <tr>\n",
       "      <th>aardvark</th>\n",
       "      <td>0</td>\n",
       "    </tr>\n",
       "  </tbody>\n",
       "</table>\n",
       "</div>"
      ],
      "text/plain": [
       "          sentiment\n",
       "term               \n",
       "a                 0\n",
       "a.d.              0\n",
       "a.k.a.            0\n",
       "a.m.              0\n",
       "aardvark          0"
      ]
     },
     "execution_count": 51,
     "metadata": {},
     "output_type": "execute_result"
    }
   ],
   "source": [
    "sent.head()"
   ]
  },
  {
   "cell_type": "code",
   "execution_count": 61,
   "metadata": {},
   "outputs": [
    {
     "data": {
      "text/plain": [
       "np.float64(-43.0)"
      ]
     },
     "execution_count": 61,
     "metadata": {},
     "output_type": "execute_result"
    }
   ],
   "source": [
    "# writing down the first draft of the sentiment analysis\n",
    "# on the fly preprocessing \n",
    "song_text = re.sub(r\"\\n|[^\\w ]\", \"\", songs.text[0]).lower()\n",
    "# do sentiment by join\n",
    "text_df = pd.DataFrame({\"term\": song_text.split(\" \")})\n",
    "text_df.merge(sent, on = \"term\", how = \"left\").sentiment.sum()"
   ]
  },
  {
   "cell_type": "code",
   "execution_count": 66,
   "metadata": {},
   "outputs": [],
   "source": [
    "# after testing implement this in a function\n",
    "def sentiment_analysis(text):\n",
    "  song_text = re.sub(r\"\\n|[^\\w ]\", \"\", text).lower()\n",
    "  # do sentiment by join\n",
    "  text_df = pd.DataFrame({\"term\": song_text.split(\" \")})\n",
    "  sentiment = text_df.merge(sent, on = \"term\", how = \"left\").sentiment.sum()\n",
    "  return sentiment"
   ]
  },
  {
   "cell_type": "code",
   "execution_count": 68,
   "metadata": {},
   "outputs": [],
   "source": [
    "# apply this to the songs\n",
    "songs[\"sentiment\"] = songs.apply(lambda row: sentiment_analysis(row[\"text\"]), axis= 1)"
   ]
  },
  {
   "cell_type": "code",
   "execution_count": 69,
   "metadata": {},
   "outputs": [
    {
     "data": {
      "text/html": [
       "<div>\n",
       "<style scoped>\n",
       "    .dataframe tbody tr th:only-of-type {\n",
       "        vertical-align: middle;\n",
       "    }\n",
       "\n",
       "    .dataframe tbody tr th {\n",
       "        vertical-align: top;\n",
       "    }\n",
       "\n",
       "    .dataframe thead th {\n",
       "        text-align: right;\n",
       "    }\n",
       "</style>\n",
       "<table border=\"1\" class=\"dataframe\">\n",
       "  <thead>\n",
       "    <tr style=\"text-align: right;\">\n",
       "      <th></th>\n",
       "      <th>Unnamed: 0</th>\n",
       "      <th>name</th>\n",
       "      <th>artists</th>\n",
       "      <th>year</th>\n",
       "      <th>text</th>\n",
       "      <th>sentiment</th>\n",
       "    </tr>\n",
       "  </thead>\n",
       "  <tbody>\n",
       "    <tr>\n",
       "      <th>0</th>\n",
       "      <td>3</td>\n",
       "      <td>Mic Check</td>\n",
       "      <td>Rage Against The Machine</td>\n",
       "      <td>1999</td>\n",
       "      <td>Oh Wait a minute now  \\nHa ha ha  \\nCome on  \\...</td>\n",
       "      <td>-43.0</td>\n",
       "    </tr>\n",
       "    <tr>\n",
       "      <th>1</th>\n",
       "      <td>6</td>\n",
       "      <td>Born As Ghosts</td>\n",
       "      <td>Rage Against The Machine</td>\n",
       "      <td>1999</td>\n",
       "      <td>The hills find peace  \\nLocked armed guard pos...</td>\n",
       "      <td>-18.0</td>\n",
       "    </tr>\n",
       "    <tr>\n",
       "      <th>2</th>\n",
       "      <td>12</td>\n",
       "      <td>Bombtrack</td>\n",
       "      <td>Rage Against The Machine</td>\n",
       "      <td>1992</td>\n",
       "      <td>Ughh!  \\nHey yo, it's just another bombtrack u...</td>\n",
       "      <td>-113.0</td>\n",
       "    </tr>\n",
       "    <tr>\n",
       "      <th>3</th>\n",
       "      <td>17</td>\n",
       "      <td>Know Your Enemy</td>\n",
       "      <td>Rage Against The Machine</td>\n",
       "      <td>1992</td>\n",
       "      <td>Huh!  \\nYeah, we're comin' back then with anot...</td>\n",
       "      <td>-51.0</td>\n",
       "    </tr>\n",
       "    <tr>\n",
       "      <th>4</th>\n",
       "      <td>20</td>\n",
       "      <td>Township Rebellion</td>\n",
       "      <td>Rage Against The Machine</td>\n",
       "      <td>1992</td>\n",
       "      <td>Rebel, rebel and yell  \\n'Cause our people sti...</td>\n",
       "      <td>-80.0</td>\n",
       "    </tr>\n",
       "  </tbody>\n",
       "</table>\n",
       "</div>"
      ],
      "text/plain": [
       "   Unnamed: 0                name                   artists  year  \\\n",
       "0           3           Mic Check  Rage Against The Machine  1999   \n",
       "1           6      Born As Ghosts  Rage Against The Machine  1999   \n",
       "2          12           Bombtrack  Rage Against The Machine  1992   \n",
       "3          17     Know Your Enemy  Rage Against The Machine  1992   \n",
       "4          20  Township Rebellion  Rage Against The Machine  1992   \n",
       "\n",
       "                                                text  sentiment  \n",
       "0  Oh Wait a minute now  \\nHa ha ha  \\nCome on  \\...      -43.0  \n",
       "1  The hills find peace  \\nLocked armed guard pos...      -18.0  \n",
       "2  Ughh!  \\nHey yo, it's just another bombtrack u...     -113.0  \n",
       "3  Huh!  \\nYeah, we're comin' back then with anot...      -51.0  \n",
       "4  Rebel, rebel and yell  \\n'Cause our people sti...      -80.0  "
      ]
     },
     "execution_count": 69,
     "metadata": {},
     "output_type": "execute_result"
    }
   ],
   "source": [
    "songs.head()"
   ]
  },
  {
   "cell_type": "markdown",
   "metadata": {},
   "source": [
    "# Task 4\n",
    "We just group by and plot it using the normal `.plot` function"
   ]
  },
  {
   "cell_type": "code",
   "execution_count": 81,
   "metadata": {},
   "outputs": [
    {
     "data": {
      "text/plain": [
       "<Axes: xlabel='year'>"
      ]
     },
     "execution_count": 81,
     "metadata": {},
     "output_type": "execute_result"
    },
    {
     "data": {
      "image/png": "[encoded data removed]",
      "text/plain": [
       "<Figure size 640x480 with 1 Axes>"
      ]
     },
     "metadata": {},
     "output_type": "display_data"
    }
   ],
   "source": [
    "sent_df = songs.groupby(\"year\").sentiment.mean()\n",
    "sent_df.plot()"
   ]
  },
  {
   "cell_type": "code",
   "execution_count": 82,
   "metadata": {},
   "outputs": [
    {
     "data": {
      "text/plain": [
       "<Axes: xlabel='year'>"
      ]
     },
     "execution_count": 82,
     "metadata": {},
     "output_type": "execute_result"
    },
    {
     "data": {
      "image/png": "[encoded data removed]",
      "text/plain": [
       "<Figure size 640x480 with 1 Axes>"
      ]
     },
     "metadata": {},
     "output_type": "display_data"
    }
   ],
   "source": [
    "sent_var_df = songs.groupby(\"year\").sentiment.var()\n",
    "sent_var_df.plot()"
   ]
  }
 ],
 "metadata": {
  "kernelspec": {
   "display_name": "nlp",
   "language": "python",
   "name": "python3"
  },
  "language_info": {
   "codemirror_mode": {
    "name": "ipython",
    "version": 3
   },
   "file_extension": ".py",
   "mimetype": "text/x-python",
   "name": "python",
   "nbconvert_exporter": "python",
   "pygments_lexer": "ipython3",
   "version": "3.13.0"
  }
 },
 "nbformat": 4,
 "nbformat_minor": 2
}
