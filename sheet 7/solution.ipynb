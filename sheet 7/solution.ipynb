{
 "cells": [
  {
   "cell_type": "code",
   "execution_count": 57,
   "metadata": {},
   "outputs": [],
   "source": [
    "import pandas as pd\n",
    "import re\n",
    "from nltk.stem import WordNetLemmatizer\n",
    "from nltk.corpus import stopwords\n",
    "from gensim.models import LdaModel\n",
    "from gensim.corpora.dictionary import Dictionary\n",
    "import json\n",
    "# external implementation of the LDA model\n",
    "from lda_model import LDA"
   ]
  },
  {
   "cell_type": "code",
   "execution_count": 9,
   "metadata": {},
   "outputs": [
    {
     "data": {
      "text/html": [
       "<div>\n",
       "<style scoped>\n",
       "    .dataframe tbody tr th:only-of-type {\n",
       "        vertical-align: middle;\n",
       "    }\n",
       "\n",
       "    .dataframe tbody tr th {\n",
       "        vertical-align: top;\n",
       "    }\n",
       "\n",
       "    .dataframe thead th {\n",
       "        text-align: right;\n",
       "    }\n",
       "</style>\n",
       "<table border=\"1\" class=\"dataframe\">\n",
       "  <thead>\n",
       "    <tr style=\"text-align: right;\">\n",
       "      <th></th>\n",
       "      <th>text</th>\n",
       "      <th>label</th>\n",
       "    </tr>\n",
       "  </thead>\n",
       "  <tbody>\n",
       "    <tr>\n",
       "      <th>0</th>\n",
       "      <td>“Worry is a down payment on a problem you may ...</td>\n",
       "      <td>optimism</td>\n",
       "    </tr>\n",
       "    <tr>\n",
       "      <th>1</th>\n",
       "      <td>My roommate: it's okay that we can't spell bec...</td>\n",
       "      <td>anger</td>\n",
       "    </tr>\n",
       "    <tr>\n",
       "      <th>2</th>\n",
       "      <td>No but that's so cute. Atsu was probably shy a...</td>\n",
       "      <td>joy</td>\n",
       "    </tr>\n",
       "    <tr>\n",
       "      <th>3</th>\n",
       "      <td>Rooneys fucking untouchable isn't he? Been fuc...</td>\n",
       "      <td>anger</td>\n",
       "    </tr>\n",
       "    <tr>\n",
       "      <th>4</th>\n",
       "      <td>it's pretty depressing when u hit pan on ur fa...</td>\n",
       "      <td>sadness</td>\n",
       "    </tr>\n",
       "  </tbody>\n",
       "</table>\n",
       "</div>"
      ],
      "text/plain": [
       "                                                text     label\n",
       "0  “Worry is a down payment on a problem you may ...  optimism\n",
       "1  My roommate: it's okay that we can't spell bec...     anger\n",
       "2  No but that's so cute. Atsu was probably shy a...       joy\n",
       "3  Rooneys fucking untouchable isn't he? Been fuc...     anger\n",
       "4  it's pretty depressing when u hit pan on ur fa...   sadness"
      ]
     },
     "execution_count": 9,
     "metadata": {},
     "output_type": "execute_result"
    }
   ],
   "source": [
    "df = pd.read_csv(\"./data/emotion_dataset.csv\")\n",
    "df.head()"
   ]
  },
  {
   "cell_type": "code",
   "execution_count": 41,
   "metadata": {},
   "outputs": [
    {
     "data": {
      "text/plain": [
       "['Worry',\n",
       " 'is',\n",
       " 'a',\n",
       " 'down',\n",
       " 'payment',\n",
       " 'on',\n",
       " 'a',\n",
       " 'problem',\n",
       " 'you',\n",
       " 'may',\n",
       " 'never',\n",
       " 'have',\n",
       " 'Joyce',\n",
       " 'Meyer',\n",
       " 'motivation',\n",
       " 'leadership',\n",
       " 'worry']"
      ]
     },
     "execution_count": 41,
     "metadata": {},
     "output_type": "execute_result"
    }
   ],
   "source": [
    "text = re.sub(r\"[^A-Za-z ]\", \"\", df.text[0]).strip()\n",
    "re.sub(r\"[ ]{2,}\", \" \", text).split()"
   ]
  },
  {
   "cell_type": "markdown",
   "metadata": {},
   "source": [
    "## Text preprocessing\n",
    "The following preprocessing is fit for this analysis:\n",
    "- remove special characters\n",
    "- make lower case and strip a trailing whitespace\n",
    "- remove more than one whitespace\n",
    "- tokenize\n",
    "- remove stopwords\n",
    "- remove meaninless words\n",
    "- lemmatize"
   ]
  },
  {
   "cell_type": "code",
   "execution_count": 48,
   "metadata": {},
   "outputs": [],
   "source": [
    "def preprocess(text):\n",
    "    # remove special characters\n",
    "    text = re.sub(r\"[^a-zA-Z ]\", \"\", text)\n",
    "\n",
    "    # make lower case\n",
    "    text = text.lower().strip()\n",
    "\n",
    "    # remove more than one whitespace\n",
    "    text = re.sub(r\"[ ]{2,}\", \" \", text)\n",
    "\n",
    "    # tokenize\n",
    "    text = text.split(\" \")\n",
    "    \n",
    "    # remove stopwords\n",
    "    text = [word for word in text if word not in stopwords.words(\"english\")]\n",
    "\n",
    "    # remove useless words\n",
    "    text = [word for word in text if word not in [\"user\", \"im\", \"\"]]\n",
    "\n",
    "    # lemmatize\n",
    "    lem = WordNetLemmatizer()\n",
    "    result = [lem.lemmatize(word) for word in text]\n",
    "\n",
    "    return result"
   ]
  },
  {
   "cell_type": "code",
   "execution_count": 49,
   "metadata": {},
   "outputs": [
    {
     "data": {
      "text/plain": [
       "['worry',\n",
       " 'payment',\n",
       " 'problem',\n",
       " 'may',\n",
       " 'never',\n",
       " 'joyce',\n",
       " 'meyer',\n",
       " 'motivation',\n",
       " 'leadership',\n",
       " 'worry']"
      ]
     },
     "execution_count": 49,
     "metadata": {},
     "output_type": "execute_result"
    }
   ],
   "source": [
    "# testing implementation\n",
    "preprocess(df.text[0])"
   ]
  },
  {
   "cell_type": "code",
   "execution_count": 50,
   "metadata": {},
   "outputs": [],
   "source": [
    "# preprocessing\n",
    "df[\"text_preprocessed\"] = df.apply(lambda row: preprocess(row[\"text\"]), axis = 1)"
   ]
  },
  {
   "cell_type": "markdown",
   "metadata": {},
   "source": [
    "### Task 2\n",
    "Fitting five normal LDA models with $K=4$ `n_features = 1000` and high `n_iter`.  "
   ]
  },
  {
   "cell_type": "code",
   "execution_count": 51,
   "metadata": {},
   "outputs": [],
   "source": [
    "ldas = []\n",
    "k = 4\n",
    "\n",
    "vocabulary = Dictionary(df.text_preprocessed.to_list())\n",
    "corpus = [vocabulary.doc2bow(text) for text in df.text_preprocessed]\n",
    "\n",
    "for i in range(5):\n",
    "    lda = LdaModel(corpus, num_topics=k,\n",
    "                   iterations=1000,\n",
    "                   id2word=vocabulary)\n",
    "    ldas.append(lda)"
   ]
  },
  {
   "cell_type": "code",
   "execution_count": 52,
   "metadata": {},
   "outputs": [
    {
     "data": {
      "text/plain": [
       "[(0,\n",
       "  '0.009*\"like\" + 0.009*\"get\" + 0.006*\"amp\" + 0.006*\"one\" + 0.005*\"sad\" + 0.005*\"back\" + 0.004*\"people\" + 0.004*\"even\" + 0.004*\"day\" + 0.004*\"much\"'),\n",
       " (1,\n",
       "  '0.006*\"like\" + 0.005*\"dont\" + 0.005*\"lively\" + 0.004*\"day\" + 0.004*\"watch\" + 0.004*\"fuming\" + 0.004*\"get\" + 0.004*\"lost\" + 0.003*\"amazing\" + 0.003*\"think\"'),\n",
       " (2,\n",
       "  '0.009*\"amp\" + 0.006*\"people\" + 0.006*\"love\" + 0.005*\"fear\" + 0.004*\"depression\" + 0.004*\"make\" + 0.004*\"angry\" + 0.004*\"never\" + 0.004*\"time\" + 0.004*\"go\"'),\n",
       " (3,\n",
       "  '0.014*\"dont\" + 0.008*\"like\" + 0.007*\"u\" + 0.006*\"know\" + 0.006*\"get\" + 0.004*\"feel\" + 0.004*\"life\" + 0.004*\"cant\" + 0.004*\"think\" + 0.004*\"would\"')]"
      ]
     },
     "execution_count": 52,
     "metadata": {},
     "output_type": "execute_result"
    }
   ],
   "source": [
    "ldas[0].show_topics()"
   ]
  },
  {
   "cell_type": "markdown",
   "metadata": {},
   "source": [
    "## LDA with seeding\n",
    "We will first read in the seed words and then apply the external implementation of the lda to the data"
   ]
  },
  {
   "cell_type": "code",
   "execution_count": 64,
   "metadata": {},
   "outputs": [
    {
     "data": {
      "text/plain": [
       "{'anger': ['outrageous',\n",
       "  'infuriating',\n",
       "  'ridiculous',\n",
       "  'absurd',\n",
       "  'exasperating',\n",
       "  'disgusting',\n",
       "  'insulting',\n",
       "  'offensive',\n",
       "  'intolerable',\n",
       "  'unacceptable',\n",
       "  'outrage',\n",
       "  'insane',\n",
       "  'angry',\n",
       "  'upset',\n",
       "  'boiling',\n",
       "  'seething',\n",
       "  'frustrated',\n",
       "  'mad',\n",
       "  'irritated',\n",
       "  'livid',\n",
       "  'indignant',\n",
       "  'agitated',\n",
       "  'annoyed',\n",
       "  'pissed',\n",
       "  'irate',\n",
       "  'aggravated',\n",
       "  'enraged',\n",
       "  'bitter',\n",
       "  'displeased',\n",
       "  'disgruntled',\n",
       "  'vexed',\n",
       "  'temperamental',\n",
       "  'cross',\n",
       "  'testy',\n",
       "  'impatient',\n",
       "  'belligerent',\n",
       "  'furious',\n",
       "  'hostile',\n",
       "  'offended',\n",
       "  'exasperated',\n",
       "  'resentful'],\n",
       " 'sadness': ['sad',\n",
       "  'unhappy',\n",
       "  'melancholy',\n",
       "  'dejected',\n",
       "  'mournful',\n",
       "  'downcast',\n",
       "  'despondent',\n",
       "  'blue',\n",
       "  'dismal',\n",
       "  'gloomy',\n",
       "  'forlorn',\n",
       "  'heartbroken',\n",
       "  'woeful',\n",
       "  'crestfallen',\n",
       "  'disheartened',\n",
       "  'grief',\n",
       "  'sorrowful',\n",
       "  'tearful',\n",
       "  'somber',\n",
       "  'bereaved',\n",
       "  'lamenting',\n",
       "  'doleful',\n",
       "  'mournful',\n",
       "  'lugubrious',\n",
       "  'pensive',\n",
       "  'heavyhearted',\n",
       "  'woebegone',\n",
       "  'troubled',\n",
       "  'depressed',\n",
       "  'brokenhearted',\n",
       "  'weepy',\n",
       "  'funereal',\n",
       "  'downhearted',\n",
       "  'low-spirited',\n",
       "  'sullen',\n",
       "  'despairing',\n",
       "  'disconsolate',\n",
       "  'downtrodden',\n",
       "  'dejected',\n",
       "  'wretched',\n",
       "  'grief',\n",
       "  'painful',\n",
       "  'miserable',\n",
       "  'anguished',\n",
       "  'regretful'],\n",
       " 'joy': ['happy',\n",
       "  'joyful',\n",
       "  'delighted',\n",
       "  'cheerful',\n",
       "  'ecstatic',\n",
       "  'exuberant',\n",
       "  'jovial',\n",
       "  'elated',\n",
       "  'content',\n",
       "  'pleased',\n",
       "  'gleeful',\n",
       "  'upbeat',\n",
       "  'excited',\n",
       "  'overjoyed',\n",
       "  'radiant',\n",
       "  'smiling',\n",
       "  'grateful',\n",
       "  'blissful',\n",
       "  'euphoric',\n",
       "  'lighthearted',\n",
       "  'satisfied',\n",
       "  'thrilled',\n",
       "  'bubbly',\n",
       "  'vibrant',\n",
       "  'exhilarated',\n",
       "  'festive',\n",
       "  'merry',\n",
       "  'sunny',\n",
       "  'jubilant',\n",
       "  'carefree',\n",
       "  'optimistic',\n",
       "  'sparkling',\n",
       "  'heartwarming',\n",
       "  'buoyant',\n",
       "  'blessed',\n",
       "  'uplifting',\n",
       "  'cheery',\n",
       "  'grinning',\n",
       "  'animated',\n",
       "  'satisfying',\n",
       "  'delightful',\n",
       "  'smiley',\n",
       "  'gleaming',\n",
       "  'positive',\n",
       "  'wonderful'],\n",
       " 'optimism': ['optimistic',\n",
       "  'hopeful',\n",
       "  'positive',\n",
       "  'encouraging',\n",
       "  'upbeat',\n",
       "  'confident',\n",
       "  'cheerful',\n",
       "  'buoyant',\n",
       "  'inspiring',\n",
       "  'joyful',\n",
       "  'assured',\n",
       "  'sanguine',\n",
       "  'expectant',\n",
       "  'enthusiastic',\n",
       "  'confident',\n",
       "  'uplifting',\n",
       "  'auspicious',\n",
       "  'bright',\n",
       "  'promising',\n",
       "  'hope-filled',\n",
       "  'sunny',\n",
       "  'assuring',\n",
       "  'heartening',\n",
       "  'favorable',\n",
       "  'constructive',\n",
       "  'forward-looking',\n",
       "  'high-spirited',\n",
       "  'hope-giving',\n",
       "  'rosy',\n",
       "  'promising',\n",
       "  'confident',\n",
       "  'reassuring',\n",
       "  'promising',\n",
       "  'reassured',\n",
       "  'promising',\n",
       "  'encouraged',\n",
       "  'spirited',\n",
       "  'promising',\n",
       "  'inspired',\n",
       "  'promising',\n",
       "  'hopeful',\n",
       "  'promising',\n",
       "  'positive',\n",
       "  'promising',\n",
       "  'upbeat']}"
      ]
     },
     "execution_count": 64,
     "metadata": {},
     "output_type": "execute_result"
    }
   ],
   "source": [
    "with open(\"./data/seed_words.json\") as f:\n",
    "    seeds = json.load(f)\n",
    "seeds"
   ]
  },
  {
   "cell_type": "code",
   "execution_count": 96,
   "metadata": {},
   "outputs": [],
   "source": [
    "from sklearn.feature_extraction.text import CountVectorizer\n",
    "\n",
    "X = CountVectorizer().fit_transform(df.text_preprocessed.str.join(\" \"))\n",
    "\n",
    "# lda = LDA(k, 1000)\n",
    "# # needs an \"arraylike\" with a shape \n",
    "# # [[test[1] for test in row] for row in corpus]\n",
    "# lda.fit(X)"
   ]
  },
  {
   "cell_type": "code",
   "execution_count": 95,
   "metadata": {},
   "outputs": [
    {
     "data": {
      "text/plain": [
       "array([1, 1, 1, 1, 1, 1, 1], dtype=int64)"
      ]
     },
     "execution_count": 95,
     "metadata": {},
     "output_type": "execute_result"
    }
   ],
   "source": [
    "X[1,X[1,] > 0]"
   ]
  }
 ],
 "metadata": {
  "kernelspec": {
   "display_name": "nlp",
   "language": "python",
   "name": "python3"
  },
  "language_info": {
   "codemirror_mode": {
    "name": "ipython",
    "version": 3
   },
   "file_extension": ".py",
   "mimetype": "text/x-python",
   "name": "python",
   "nbconvert_exporter": "python",
   "pygments_lexer": "ipython3",
   "version": "3.12.7"
  }
 },
 "nbformat": 4,
 "nbformat_minor": 2
}
